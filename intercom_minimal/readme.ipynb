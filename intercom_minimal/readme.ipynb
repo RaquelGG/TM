{
 "cells": [
  {
   "cell_type": "markdown",
   "metadata": {},
   "source": [
    "# Guia de buenas practicas utilizadas para la realización del hito\n",
    "\n",
    "El uso de buenas practicas permite a los diferentes usuarios ya sean o no parte de nuestro proyecto tener una mayor compresión sobre su contenido evitando rompeduras de cabeza innecesarias.\n",
    "\n",
    "En python existe una guia de buenas practicas, denominada PEP 8. Esta define por convenio el estilo que se ha de usar para la asignación de nombres a los metodos, la documentación, la importacíón de clases, etc... \n",
    "\n",
    "### Clases\n",
    "Las clases deben utilizar por convención el formato \"CapWords\", palabras que siempre comienzan con mayusculas."
   ]
  },
  {
   "cell_type": "code",
   "execution_count": 1,
   "metadata": {},
   "outputs": [],
   "source": [
    "class UdpReceiver():\n",
    "    pass"
   ]
  },
  {
   "cell_type": "markdown",
   "metadata": {},
   "source": [
    "\n",
    "### Métodos y variables\n",
    "Los nombres de los metodos y las instancias de las variables usan \"_\" (barrabaja) entre las palabras, siendo el numero de estas las necesarias para su comprensión. En el caso de las los metodos y varibales no publicas se usara una unica \"_\". Generalmente unicamente se usaran dos \"_\" para evitar conflictos de nombres con los atributos de las clases que han sido creadas para ser subclases."
   ]
  },
  {
   "cell_type": "code",
   "execution_count": 2,
   "metadata": {},
   "outputs": [],
   "source": [
    "def disponible_args():\n",
    "    NUMBER_OF_CHANNELS = 2"
   ]
  },
  {
   "cell_type": "markdown",
   "metadata": {},
   "source": [
    "### Docstring\n",
    "La creación de documentación usa otro convenio definido por PEP 257.\n",
    "El convenio define las lineas de documentación como \"docstrings\" y deben de ser escritos para todo el contenido publico como modulos, funciones, clases y metodos, en el caso del contenido no publico no sera necesario, pero si sera necesario escribir una linea explicando que hace el metodo. \n",
    "\n",
    "Todo el contenido que se utilice como \"docstring\" debe de aparecer debajo de la linea \"def\", el formato para hacerlo es usar \"\"\"triples comillas\"\"\". Existen dos formas de usar \"docstring\":\n",
    "\t- En una sola linea\n",
    "\t- En varias lineas\n",
    "\t\t\"\"\"Al inicio del \"docstringt\" aparecera una linea de resumen siguiendo las 3 comillas o en la siguiente linea, \n",
    "\n",
    "\t\t   pero tras ella se dejara una linea en blanco, seguido por una descripción más elaborada. \n",
    "\n",
    "\n",
    "\n",
    "\n",
    "\n",
    "[1] PEP 257. <https://www.python.org/dev/peps/pep-0257/>\n",
    "[2] PEP 8. <https://www.python.org/dev/peps/pep-0008/>"
   ]
  },
  {
   "cell_type": "code",
   "execution_count": 3,
   "metadata": {},
   "outputs": [],
   "source": [
    "def play(self, chunk, stream):\n",
    "        \"\"\"Write samples to the stream.\n",
    "\n",
    "            Parameters\n",
    "            ----------\n",
    "            chunk : buffer\n",
    "                A buffer of interleaved samples. The buffer contains\n",
    "                samples in the format specified by the *dtype* parameter\n",
    "                used to open the stream, and the number of channels\n",
    "                specified by *channels*.\n",
    "\n",
    "            stream : sd.RawStream\n",
    "                Raw stream for playback and recording.\n",
    "            \"\"\"\n",
    "        stream.write(chunk)"
   ]
  }
 ],
 "metadata": {
  "kernelspec": {
   "display_name": "Python 3",
   "language": "python",
   "name": "python3"
  },
  "language_info": {
   "codemirror_mode": {
    "name": "ipython",
    "version": 3
   },
   "file_extension": ".py",
   "mimetype": "text/x-python",
   "name": "python",
   "nbconvert_exporter": "python",
   "pygments_lexer": "ipython3",
   "version": "3.8.5"
  }
 },
 "nbformat": 4,
 "nbformat_minor": 4
}
